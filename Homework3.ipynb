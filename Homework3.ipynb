{
  "nbformat": 4,
  "nbformat_minor": 0,
  "metadata": {
    "colab": {
      "name": "Homework3.ipynb",
      "provenance": [],
      "toc_visible": true,
      "authorship_tag": "ABX9TyPLlOpLddQu/uc2OXy+RK8s",
      "include_colab_link": true
    },
    "kernelspec": {
      "name": "python3",
      "display_name": "Python 3"
    },
    "language_info": {
      "name": "python"
    }
  },
  "cells": [
    {
      "cell_type": "markdown",
      "metadata": {
        "id": "view-in-github",
        "colab_type": "text"
      },
      "source": [
        "<a href=\"https://colab.research.google.com/github/Runshi-Yang/JSC270_HW3_2022_Runshi/blob/main/Homework3.ipynb\" target=\"_parent\"><img src=\"https://colab.research.google.com/assets/colab-badge.svg\" alt=\"Open In Colab\"/></a>"
      ]
    },
    {
      "cell_type": "markdown",
      "source": [
        "#Part1: Approximating pi"
      ],
      "metadata": {
        "id": "_os3-x4v5KGf"
      }
    },
    {
      "cell_type": "markdown",
      "source": [
        "##A. Implement your method in your notebook to obtain an estimate of $\\pi$."
      ],
      "metadata": {
        "id": "jW56cixPHiRx"
      }
    },
    {
      "cell_type": "code",
      "execution_count": null,
      "metadata": {
        "colab": {
          "base_uri": "https://localhost:8080/"
        },
        "id": "2--K8yKZ3qmW",
        "outputId": "1a6225db-65ec-4bd7-f1b2-d1867606cc82"
      },
      "outputs": [
        {
          "output_type": "execute_result",
          "data": {
            "text/plain": [
              "3.135431354313543"
            ]
          },
          "metadata": {},
          "execution_count": 17
        }
      ],
      "source": [
        "import numpy as np\n",
        "\n",
        "def point_sampler():\n",
        "  x = np.random.uniform(0, 1)\n",
        "  y = np.random.uniform(0, 1)\n",
        "  point = (x, y)\n",
        "  return point\n",
        "\n",
        "np.random.seed(2022)\n",
        "\n",
        "my_result = [point_sampler() for n in range(1,100000)]\n",
        "\n",
        "num = 0\n",
        "for result in my_result:\n",
        "  if (result[0]-0.5) * (result[0]-0.5) + (result[1]-0.5) * (result[1]-0.5) <= 0.25:\n",
        "    num += 1\n",
        "\n",
        "4*num/len(my_result)"
      ]
    },
    {
      "cell_type": "markdown",
      "source": [
        "##B. Please find the answer in the pdf file."
      ],
      "metadata": {
        "id": "WQ0kJqPgIMOH"
      }
    },
    {
      "cell_type": "markdown",
      "source": [
        "##C. Please find the answer in the pdf file."
      ],
      "metadata": {
        "id": "CgRr4C4zIbe5"
      }
    },
    {
      "cell_type": "markdown",
      "source": [
        "##Bonus: Please find the answer in the pdf file."
      ],
      "metadata": {
        "id": "xjhVnQF4Il1I"
      }
    },
    {
      "cell_type": "markdown",
      "source": [
        "#Part2: Understanding bias\n"
      ],
      "metadata": {
        "id": "O2odwHIn5eE_"
      }
    },
    {
      "cell_type": "markdown",
      "source": [
        "##A. Run a simulation to compare the bias of the two estimators for $\\sigma^2$."
      ],
      "metadata": {
        "id": "jzPm3bNGPCWA"
      }
    },
    {
      "cell_type": "code",
      "source": [
        "mu, sigma = 2, 2\n",
        "d10 = [np.random.normal(mu, sigma, 1) for i in range(10)]\n",
        "d25 = [np.random.normal(mu, sigma, 1) for i in range(25)]\n",
        "d50 = [np.random.normal(mu, sigma, 1) for i in range(50)]\n",
        "d100 = [np.random.normal(mu, sigma, 1) for i in range(100)]\n",
        "d250 = [np.random.normal(mu, sigma, 1) for i in range(250)]\n",
        "d500 = [np.random.normal(mu, sigma, 1) for i in range(500)]\n",
        "\n",
        "def sample_estimator1 (sample_data):\n",
        "  mean = np.mean(sample_data)\n",
        "  sum = 0\n",
        "  for data in sample_data:\n",
        "    sum += (data - mean) ** 2\n",
        "  return sum / (len(sample_data) - 1)\n",
        "\n",
        "def sample_estimator2 (sample_data):\n",
        "  mean = np.mean(sample_data)\n",
        "  sum = 0\n",
        "  for data in sample_data:\n",
        "    sum += (data - mean) ** 2\n",
        "  return sum / len(sample_data)\n",
        "\n",
        "def estimator_sampler(sample_data):\n",
        "  estimates1 = [sample_estimator1(sample_data) for i in range(1000)]\n",
        "  estimates2 = [sample_estimator2(sample_data) for i in range(1000)]\n",
        "  return np.mean(estimates1), np.mean(estimates2)\n",
        "\n",
        "estimators = [estimator_sampler(d10),\n",
        "estimator_sampler(d25),\n",
        "estimator_sampler(d50),\n",
        "estimator_sampler(d100),\n",
        "estimator_sampler(d250),\n",
        "estimator_sampler(d500)]\n",
        "estimators"
      ],
      "metadata": {
        "colab": {
          "base_uri": "https://localhost:8080/"
        },
        "id": "xFcmCLF3PAVa",
        "outputId": "42072e02-ea69-4dbb-bdcb-ced3e15d2dda"
      },
      "execution_count": null,
      "outputs": [
        {
          "output_type": "execute_result",
          "data": {
            "text/plain": [
              "[(6.644887783126069, 5.9803990048134645),\n",
              " (3.3650213319633884, 3.230420478684854),\n",
              " (3.908464409004681, 3.8302951208245886),\n",
              " (3.551682725921204, 3.516165898661993),\n",
              " (3.5725164381795533, 3.558226372426835),\n",
              " (3.774650434887688, 3.767101134017912)]"
            ]
          },
          "metadata": {},
          "execution_count": 30
        }
      ]
    },
    {
      "cell_type": "markdown",
      "source": [
        "B.Make a plot of bias vs sample size for the two estimators."
      ],
      "metadata": {
        "id": "Bwp1SRW3Y7E3"
      }
    },
    {
      "cell_type": "code",
      "source": [
        "bias1 = [estimator[0] - 4 for estimator in estimators]\n",
        "bias2 = [estimator[1] - 4 for estimator in estimators]\n",
        "\n",
        "import matplotlib.pyplot as plt\n",
        "x = [10, 25, 50, 100, 250, 500]\n",
        "l1 = plt.plot(x, bias1, 'r', label='estimator1')\n",
        "l2 = plt.plot(x, bias2, 'b', label='estimator2')\n",
        "plt.title('Sample size vs Bias for 2 estimators')\n",
        "plt.xlabel('sample size')\n",
        "plt.ylabel('bias')\n",
        "plt.legend(loc='upper right')\n",
        "plt.show()"
      ],
      "metadata": {
        "colab": {
          "base_uri": "https://localhost:8080/",
          "height": 295
        },
        "id": "6Db2E9-4Y_eG",
        "outputId": "24afe558-17ae-418c-e5cc-f30b052132fd"
      },
      "execution_count": null,
      "outputs": [
        {
          "output_type": "display_data",
          "data": {
            "image/png": "[encoded data removed]",
            "text/plain": [
              "<Figure size 432x288 with 1 Axes>"
            ]
          },
          "metadata": {
            "needs_background": "light"
          }
        }
      ]
    },
    {
      "cell_type": "markdown",
      "source": [
        "What do you observe? Is this behavior expected?\n",
        "\n",
        "Please find the answer in the pdf file."
      ],
      "metadata": {
        "id": "spdJpAwoY_z-"
      }
    },
    {
      "cell_type": "markdown",
      "source": [
        "#Part3: Simulation IRL"
      ],
      "metadata": {
        "id": "WeB1OnsA5oYS"
      }
    },
    {
      "cell_type": "markdown",
      "source": [
        "#Part4: Asymptotic behavior "
      ],
      "metadata": {
        "id": "BHtP6XC75tyI"
      }
    },
    {
      "cell_type": "markdown",
      "source": [
        "##A. Run a simulation to investigate the behavior of the sample mean."
      ],
      "metadata": {
        "id": "0EZQZv9AvkyR"
      }
    },
    {
      "cell_type": "code",
      "source": [
        "mean = 2\n",
        "d10 = [np.random.exponential(mean ,1) for i in range(10)]\n",
        "d25 = [np.random.exponential(mean ,1) for i in range(25)]\n",
        "d50 = [np.random.exponential(mean ,1) for i in range(50)]\n",
        "d100 = [np.random.exponential(mean ,1) for i in range(100)]\n",
        "d250 = [np.random.exponential(mean ,1) for i in range(250)]\n",
        "d500 = [np.random.exponential(mean ,1) for i in range(500)]\n",
        "d2000 = [np.random.exponential(mean ,1) for i in range(2000)]\n",
        "d5000 = [np.random.exponential(mean ,1) for i in range(5000)]\n",
        "\n"
      ],
      "metadata": {
        "id": "HdIijP90xfHe"
      },
      "execution_count": null,
      "outputs": []
    },
    {
      "cell_type": "markdown",
      "source": [
        ""
      ],
      "metadata": {
        "id": "7BCmdxStxedC"
      }
    },
    {
      "cell_type": "markdown",
      "source": [
        "#Part5: Logistic Regression"
      ],
      "metadata": {
        "id": "Enm8l40M5zVE"
      }
    },
    {
      "cell_type": "markdown",
      "source": [
        ""
      ],
      "metadata": {
        "id": "izlIMVbV5JkY"
      }
    }
  ]
}