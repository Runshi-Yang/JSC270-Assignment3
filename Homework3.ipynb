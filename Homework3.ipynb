{
  "nbformat": 4,
  "nbformat_minor": 0,
  "metadata": {
    "colab": {
      "name": "Homework3.ipynb",
      "provenance": [],
      "toc_visible": true,
      "authorship_tag": "ABX9TyO82mgtOeujxa9ZvzImcH2d",
      "include_colab_link": true
    },
    "kernelspec": {
      "name": "python3",
      "display_name": "Python 3"
    },
    "language_info": {
      "name": "python"
    }
  },
  "cells": [
    {
      "cell_type": "markdown",
      "metadata": {
        "id": "view-in-github",
        "colab_type": "text"
      },
      "source": [
        "<a href=\"https://colab.research.google.com/github/Runshi-Yang/JSC270_HW3_2022_Runshi/blob/main/Homework3.ipynb\" target=\"_parent\"><img src=\"https://colab.research.google.com/assets/colab-badge.svg\" alt=\"Open In Colab\"/></a>"
      ]
    },
    {
      "cell_type": "markdown",
      "source": [
        "#Part1: Approximating pi"
      ],
      "metadata": {
        "id": "_os3-x4v5KGf"
      }
    },
    {
      "cell_type": "code",
      "execution_count": null,
      "metadata": {
        "id": "2--K8yKZ3qmW"
      },
      "outputs": [],
      "source": [
        ""
      ]
    },
    {
      "cell_type": "markdown",
      "source": [
        "#Part2: Understanding bias\n"
      ],
      "metadata": {
        "id": "O2odwHIn5eE_"
      }
    },
    {
      "cell_type": "markdown",
      "source": [
        "#Part3: Simulation IRL"
      ],
      "metadata": {
        "id": "WeB1OnsA5oYS"
      }
    },
    {
      "cell_type": "markdown",
      "source": [
        "#Part4: Asymptotic behavior "
      ],
      "metadata": {
        "id": "BHtP6XC75tyI"
      }
    },
    {
      "cell_type": "markdown",
      "source": [
        "#Part5: Logistic Regression"
      ],
      "metadata": {
        "id": "Enm8l40M5zVE"
      }
    },
    {
      "cell_type": "markdown",
      "source": [
        ""
      ],
      "metadata": {
        "id": "izlIMVbV5JkY"
      }
    }
  ]
}